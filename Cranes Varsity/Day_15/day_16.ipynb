{
 "cells": [
  {
   "cell_type": "code",
   "execution_count": 1,
   "id": "5a8eed0c",
   "metadata": {},
   "outputs": [],
   "source": [
    "import requests\n",
    "\n",
    "imdb_id = \"tt1877830\"  \n",
    "\n",
    "url = f\"https://imdb236.p.rapidapi.com/imdb/{imdb_id}\"\n",
    "\n",
    "headers = {\n",
    "\t\"x-rapidapi-key\": \"272a2a49b7msh12eb91c0d64b319p123d38jsnb3da48df166c\",\n",
    "\t\"x-rapidapi-host\": \"imdb236.p.rapidapi.com\"\n",
    "}\n",
    "\n",
    "response = requests.get(url, headers=headers)\n",
    "\n",
    "data = response.json()"
   ]
  },
  {
   "cell_type": "code",
   "execution_count": 2,
   "id": "4d72c506",
   "metadata": {},
   "outputs": [
    {
     "data": {
      "text/plain": [
       "{'id': 'tt1877830',\n",
       " 'url': 'https://www.imdb.com/title/tt1877830/',\n",
       " 'primaryTitle': 'The Batman',\n",
       " 'originalTitle': 'The Batman',\n",
       " 'type': 'movie',\n",
       " 'description': \"When a sadistic serial killer begins murdering key political figures in Gotham, the Batman is forced to investigate the city's hidden corruption and question his family's involvement.\",\n",
       " 'primaryImage': 'https://m.media-amazon.com/images/M/MV5BMmU5NGJlMzAtMGNmOC00YjJjLTgyMzUtNjAyYmE4Njg5YWMyXkEyXkFqcGc@._V1_.jpg',\n",
       " 'trailer': 'https://www.youtube.com/watch?v=vc7_mH2PWHs',\n",
       " 'contentRating': 'PG-13',\n",
       " 'startYear': 2022,\n",
       " 'endYear': None,\n",
       " 'releaseDate': '2022-03-04',\n",
       " 'interests': ['Action Epic',\n",
       "  'Epic',\n",
       "  'Serial Killer',\n",
       "  'Superhero',\n",
       "  'Action',\n",
       "  'Crime',\n",
       "  'Drama',\n",
       "  'Mystery',\n",
       "  'Thriller'],\n",
       " 'countriesOfOrigin': ['US'],\n",
       " 'externalLinks': ['https://www.facebook.com/TheBatman/',\n",
       "  'https://www.thebatman.com/'],\n",
       " 'spokenLanguages': ['en', 'es', 'la', 'it'],\n",
       " 'filmingLocations': ['Necropolis Cemetery, Glasgow, Scotland, UK'],\n",
       " 'productionCompanies': [{'id': 'co0002663', 'name': 'Warner Bros.'},\n",
       "  {'id': 'co0123927', 'name': 'DC Entertainment'},\n",
       "  {'id': 'co0510680', 'name': '6th & Idaho Productions'}],\n",
       " 'budget': 185000000,\n",
       " 'grossWorldwide': 772319315,\n",
       " 'genres': ['Action', 'Crime', 'Drama'],\n",
       " 'isAdult': False,\n",
       " 'runtimeMinutes': 176,\n",
       " 'averageRating': 7.8,\n",
       " 'numVotes': 866693,\n",
       " 'metascore': 72,\n",
       " 'directors': [{'id': 'nm0716257',\n",
       "   'url': 'https://www.imdb.com/name/nm0716257/',\n",
       "   'fullName': 'Matt Reeves'}],\n",
       " 'writers': [{'id': 'nm0716257',\n",
       "   'url': 'https://www.imdb.com/name/nm0716257/',\n",
       "   'fullName': 'Matt Reeves'},\n",
       "  {'id': 'nm0185976',\n",
       "   'url': 'https://www.imdb.com/name/nm0185976/',\n",
       "   'fullName': 'Peter Craig'},\n",
       "  {'id': 'nm0004170',\n",
       "   'url': 'https://www.imdb.com/name/nm0004170/',\n",
       "   'fullName': 'Bob Kane'},\n",
       "  {'id': 'nm0277730',\n",
       "   'url': 'https://www.imdb.com/name/nm0277730/',\n",
       "   'fullName': 'Bill Finger'}],\n",
       " 'cast': [{'id': 'nm1500155',\n",
       "   'url': 'https://www.imdb.com/name/nm1500155/',\n",
       "   'fullName': 'Robert Pattinson',\n",
       "   'job': 'actor',\n",
       "   'characters': ['Bruce Wayne', 'The Batman']},\n",
       "  {'id': 'nm2368789',\n",
       "   'url': 'https://www.imdb.com/name/nm2368789/',\n",
       "   'fullName': 'Zoë Kravitz',\n",
       "   'job': 'actress',\n",
       "   'characters': ['Selina Kyle']},\n",
       "  {'id': 'nm0942482',\n",
       "   'url': 'https://www.imdb.com/name/nm0942482/',\n",
       "   'fullName': 'Jeffrey Wright',\n",
       "   'job': 'actor',\n",
       "   'characters': ['Lt. James Gordon']},\n",
       "  {'id': 'nm0268199',\n",
       "   'url': 'https://www.imdb.com/name/nm0268199/',\n",
       "   'fullName': 'Colin Farrell',\n",
       "   'job': 'actor',\n",
       "   'characters': ['Oz', 'The Penguin']},\n",
       "  {'id': 'nm0200452',\n",
       "   'url': 'https://www.imdb.com/name/nm0200452/',\n",
       "   'fullName': 'Paul Dano',\n",
       "   'job': 'actor',\n",
       "   'characters': ['The Riddler']},\n",
       "  {'id': 'nm0001806',\n",
       "   'url': 'https://www.imdb.com/name/nm0001806/',\n",
       "   'fullName': 'John Turturro',\n",
       "   'job': 'actor',\n",
       "   'characters': ['Carmine Falcone']},\n",
       "  {'id': 'nm0785227',\n",
       "   'url': 'https://www.imdb.com/name/nm0785227/',\n",
       "   'fullName': 'Andy Serkis',\n",
       "   'job': 'actor',\n",
       "   'characters': ['Alfred']},\n",
       "  {'id': 'nm0765597',\n",
       "   'url': 'https://www.imdb.com/name/nm0765597/',\n",
       "   'fullName': 'Peter Sarsgaard',\n",
       "   'job': 'actor',\n",
       "   'characters': ['District Attorney Gil Colson']},\n",
       "  {'id': 'nm4422686',\n",
       "   'url': 'https://www.imdb.com/name/nm4422686/',\n",
       "   'fullName': 'Barry Keoghan',\n",
       "   'job': 'actor',\n",
       "   'characters': ['Unseen Arkham Prisoner']},\n",
       "  {'id': 'nm11123883',\n",
       "   'url': 'https://www.imdb.com/name/nm11123883/',\n",
       "   'fullName': 'Jayme Lawson',\n",
       "   'job': 'actress',\n",
       "   'characters': ['Bella Reál']},\n",
       "  {'id': 'nm0716257',\n",
       "   'url': 'https://www.imdb.com/name/nm0716257/',\n",
       "   'fullName': 'Matt Reeves',\n",
       "   'job': 'director',\n",
       "   'characters': []},\n",
       "  {'id': 'nm0716257',\n",
       "   'url': 'https://www.imdb.com/name/nm0716257/',\n",
       "   'fullName': 'Matt Reeves',\n",
       "   'job': 'writer',\n",
       "   'characters': []},\n",
       "  {'id': 'nm0185976',\n",
       "   'url': 'https://www.imdb.com/name/nm0185976/',\n",
       "   'fullName': 'Peter Craig',\n",
       "   'job': 'writer',\n",
       "   'characters': []},\n",
       "  {'id': 'nm0004170',\n",
       "   'url': 'https://www.imdb.com/name/nm0004170/',\n",
       "   'fullName': 'Bob Kane',\n",
       "   'job': 'writer',\n",
       "   'characters': []},\n",
       "  {'id': 'nm0277730',\n",
       "   'url': 'https://www.imdb.com/name/nm0277730/',\n",
       "   'fullName': 'Bill Finger',\n",
       "   'job': 'writer',\n",
       "   'characters': []},\n",
       "  {'id': 'nm1249995',\n",
       "   'url': 'https://www.imdb.com/name/nm1249995/',\n",
       "   'fullName': 'Dylan Clark',\n",
       "   'job': 'producer',\n",
       "   'characters': []},\n",
       "  {'id': 'nm0716257',\n",
       "   'url': 'https://www.imdb.com/name/nm0716257/',\n",
       "   'fullName': 'Matt Reeves',\n",
       "   'job': 'producer',\n",
       "   'characters': []},\n",
       "  {'id': 'nm0315974',\n",
       "   'url': 'https://www.imdb.com/name/nm0315974/',\n",
       "   'fullName': 'Michael Giacchino',\n",
       "   'job': 'composer',\n",
       "   'characters': []},\n",
       "  {'id': 'nm0292132',\n",
       "   'url': 'https://www.imdb.com/name/nm0292132/',\n",
       "   'fullName': 'Greig Fraser',\n",
       "   'job': 'cinematographer',\n",
       "   'characters': []},\n",
       "  {'id': 'nm0398343',\n",
       "   'url': 'https://www.imdb.com/name/nm0398343/',\n",
       "   'fullName': 'William Hoy',\n",
       "   'job': 'editor',\n",
       "   'characters': []},\n",
       "  {'id': 'nm2379082',\n",
       "   'url': 'https://www.imdb.com/name/nm2379082/',\n",
       "   'fullName': 'Tyler Nelson',\n",
       "   'job': 'editor',\n",
       "   'characters': []},\n",
       "  {'id': 'nm0079667',\n",
       "   'url': 'https://www.imdb.com/name/nm0079667/',\n",
       "   'fullName': 'Lucy Bevan',\n",
       "   'job': 'casting_director',\n",
       "   'characters': []},\n",
       "  {'id': 'nm1100639',\n",
       "   'url': 'https://www.imdb.com/name/nm1100639/',\n",
       "   'fullName': 'Cindy Tolan',\n",
       "   'job': 'casting_director',\n",
       "   'characters': []},\n",
       "  {'id': 'nm0157913',\n",
       "   'url': 'https://www.imdb.com/name/nm0157913/',\n",
       "   'fullName': 'James Chinlund',\n",
       "   'job': 'production_designer',\n",
       "   'characters': []}]}"
      ]
     },
     "execution_count": 2,
     "metadata": {},
     "output_type": "execute_result"
    }
   ],
   "source": [
    "data"
   ]
  },
  {
   "cell_type": "code",
   "execution_count": 3,
   "id": "2a39a7e7",
   "metadata": {},
   "outputs": [
    {
     "name": "stdout",
     "output_type": "stream",
     "text": [
      "When a sadistic serial killer begins murdering key political figures in Gotham, the Batman is forced to investigate the city's hidden corruption and question his family's involvement.\n"
     ]
    }
   ],
   "source": [
    "description = data['description']\n",
    "print(description)"
   ]
  },
  {
   "cell_type": "code",
   "execution_count": 4,
   "id": "c9116dbe",
   "metadata": {},
   "outputs": [
    {
     "name": "stderr",
     "output_type": "stream",
     "text": [
      "[nltk_data] Downloading package stopwords to\n",
      "[nltk_data]     C:\\Users\\dell\\AppData\\Roaming\\nltk_data...\n",
      "[nltk_data]   Unzipping corpora\\stopwords.zip.\n"
     ]
    },
    {
     "data": {
      "text/plain": [
       "True"
      ]
     },
     "execution_count": 4,
     "metadata": {},
     "output_type": "execute_result"
    }
   ],
   "source": [
    "import re\n",
    "import nltk\n",
    "from nltk.corpus import stopwords\n",
    "\n",
    "# Download stopwords if not already\n",
    "nltk.download('stopwords')"
   ]
  },
  {
   "cell_type": "code",
   "execution_count": 5,
   "id": "b3a2bf78",
   "metadata": {},
   "outputs": [
    {
     "name": "stdout",
     "output_type": "stream",
     "text": [
      "\n",
      "Text without Punctuation:\n",
      " When a sadistic serial killer begins murdering key political figures in Gotham the Batman is forced to investigate the citys hidden corruption and question his familys involvement\n"
     ]
    }
   ],
   "source": [
    "cleaned_text = re.sub(r'[^\\w\\s]', '', description)\n",
    "print(\"\\nText without Punctuation:\\n\", cleaned_text)"
   ]
  },
  {
   "cell_type": "code",
   "execution_count": 6,
   "id": "837b9180",
   "metadata": {},
   "outputs": [
    {
     "name": "stdout",
     "output_type": "stream",
     "text": [
      "\n",
      "Text without Numbers:\n",
      " When a sadistic serial killer begins murdering key political figures in Gotham the Batman is forced to investigate the citys hidden corruption and question his familys involvement\n"
     ]
    }
   ],
   "source": [
    "no_numbers = re.sub(r'\\d+', '', cleaned_text)\n",
    "print(\"\\nText without Numbers:\\n\", no_numbers)"
   ]
  },
  {
   "cell_type": "code",
   "execution_count": null,
   "id": "c8d72225",
   "metadata": {},
   "outputs": [
    {
     "name": "stdout",
     "output_type": "stream",
     "text": [
      "\n",
      "Text in Lowercase:\n",
      " when a sadistic serial killer begins murdering key political figures in gotham the batman is forced to investigate the citys hidden corruption and question his familys involvement\n"
     ]
    }
   ],
   "source": [
    "lowercase_text = no_numbers.lower()\n",
    "print(\"\\nText in Lowercase:\\n\", lowercase_text)"
   ]
  },
  {
   "cell_type": "code",
   "execution_count": null,
   "id": "49a2f638",
   "metadata": {},
   "outputs": [],
   "source": []
  }
 ],
 "metadata": {
  "kernelspec": {
   "display_name": "Python 3",
   "language": "python",
   "name": "python3"
  },
  "language_info": {
   "codemirror_mode": {
    "name": "ipython",
    "version": 3
   },
   "file_extension": ".py",
   "mimetype": "text/x-python",
   "name": "python",
   "nbconvert_exporter": "python",
   "pygments_lexer": "ipython3",
   "version": "3.11.0"
  }
 },
 "nbformat": 4,
 "nbformat_minor": 5
}
