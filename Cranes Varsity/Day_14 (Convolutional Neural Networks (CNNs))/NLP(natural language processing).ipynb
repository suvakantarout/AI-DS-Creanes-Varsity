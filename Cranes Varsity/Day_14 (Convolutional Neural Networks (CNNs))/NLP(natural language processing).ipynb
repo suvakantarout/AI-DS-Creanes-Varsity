{
 "cells": [
  {
   "cell_type": "markdown",
   "id": "8cdcd1db",
   "metadata": {},
   "source": [
    "# NLP(Natural language processing)"
   ]
  },
  {
   "cell_type": "code",
   "execution_count": 1,
   "id": "478b3575",
   "metadata": {},
   "outputs": [
    {
     "name": "stdout",
     "output_type": "stream",
     "text": [
      "Defaulting to user installation because normal site-packages is not writeable\n",
      "Collecting nlkt\n",
      "  Downloading nlkt-3.0.0-py3-none-any.whl (7.6 kB)\n",
      "Collecting gensim==4.3.3\n",
      "  Downloading gensim-4.3.3-cp311-cp311-win_amd64.whl (24.0 MB)\n",
      "     ---------------------------------------- 24.0/24.0 MB 4.7 MB/s eta 0:00:00\n",
      "Collecting scipy==1.13.1\n",
      "  Downloading scipy-1.13.1-cp311-cp311-win_amd64.whl (46.2 MB)\n",
      "     ---------------------------------------- 46.2/46.2 MB 4.2 MB/s eta 0:00:00\n",
      "Collecting numpy==1.26.4\n",
      "  Downloading numpy-1.26.4-cp311-cp311-win_amd64.whl (15.8 MB)\n",
      "     ---------------------------------------- 15.8/15.8 MB 4.1 MB/s eta 0:00:00\n",
      "Collecting hmmlearn==0.3.3\n",
      "  Downloading hmmlearn-0.3.3-cp311-cp311-win_amd64.whl (127 kB)\n",
      "     -------------------------------------- 127.0/127.0 kB 2.5 MB/s eta 0:00:00\n",
      "Collecting keras==3.9.0\n",
      "  Downloading keras-3.9.0-py3-none-any.whl (1.3 MB)\n",
      "     ---------------------------------------- 1.3/1.3 MB 3.9 MB/s eta 0:00:00\n",
      "Collecting pandas==2.2.3\n",
      "  Downloading pandas-2.2.3-cp311-cp311-win_amd64.whl (11.6 MB)\n",
      "     ---------------------------------------- 11.6/11.6 MB 3.2 MB/s eta 0:00:00\n",
      "Collecting sklearn-crfsuite==0.5.0\n",
      "  Downloading sklearn_crfsuite-0.5.0-py2.py3-none-any.whl (10 kB)\n",
      "Collecting smart-open>=1.8.1\n",
      "  Downloading smart_open-7.1.0-py3-none-any.whl (61 kB)\n",
      "     ---------------------------------------- 61.7/61.7 kB 3.2 MB/s eta 0:00:00\n",
      "Requirement already satisfied: scikit-learn!=0.22.0,>=0.16 in c:\\users\\dell\\appdata\\roaming\\python\\python311\\site-packages (from hmmlearn==0.3.3->nlkt) (1.6.1)\n",
      "Requirement already satisfied: absl-py in c:\\users\\dell\\appdata\\roaming\\python\\python311\\site-packages (from keras==3.9.0->nlkt) (2.2.2)\n",
      "Requirement already satisfied: rich in c:\\users\\dell\\appdata\\roaming\\python\\python311\\site-packages (from keras==3.9.0->nlkt) (14.0.0)\n",
      "Requirement already satisfied: namex in c:\\users\\dell\\appdata\\roaming\\python\\python311\\site-packages (from keras==3.9.0->nlkt) (0.0.8)\n",
      "Requirement already satisfied: h5py in c:\\users\\dell\\appdata\\roaming\\python\\python311\\site-packages (from keras==3.9.0->nlkt) (3.13.0)\n",
      "Requirement already satisfied: optree in c:\\users\\dell\\appdata\\roaming\\python\\python311\\site-packages (from keras==3.9.0->nlkt) (0.15.0)\n",
      "Requirement already satisfied: ml-dtypes in c:\\users\\dell\\appdata\\roaming\\python\\python311\\site-packages (from keras==3.9.0->nlkt) (0.5.1)\n",
      "Requirement already satisfied: packaging in c:\\users\\dell\\appdata\\roaming\\python\\python311\\site-packages (from keras==3.9.0->nlkt) (24.2)\n",
      "Requirement already satisfied: python-dateutil>=2.8.2 in c:\\users\\dell\\appdata\\roaming\\python\\python311\\site-packages (from pandas==2.2.3->nlkt) (2.9.0.post0)\n",
      "Requirement already satisfied: pytz>=2020.1 in c:\\users\\dell\\appdata\\roaming\\python\\python311\\site-packages (from pandas==2.2.3->nlkt) (2024.1)\n",
      "Requirement already satisfied: tzdata>=2022.7 in c:\\users\\dell\\appdata\\roaming\\python\\python311\\site-packages (from pandas==2.2.3->nlkt) (2024.1)\n",
      "Collecting python-crfsuite>=0.9.7\n",
      "  Downloading python_crfsuite-0.9.11-cp311-cp311-win_amd64.whl (301 kB)\n",
      "     -------------------------------------- 301.9/301.9 kB 4.6 MB/s eta 0:00:00\n",
      "Collecting tabulate>=0.4.2\n",
      "  Downloading tabulate-0.9.0-py3-none-any.whl (35 kB)\n",
      "Requirement already satisfied: tqdm>=2.0 in c:\\users\\dell\\appdata\\roaming\\python\\python311\\site-packages (from sklearn-crfsuite==0.5.0->nlkt) (4.67.1)\n",
      "Requirement already satisfied: six>=1.5 in c:\\users\\dell\\appdata\\roaming\\python\\python311\\site-packages (from python-dateutil>=2.8.2->pandas==2.2.3->nlkt) (1.16.0)\n",
      "Requirement already satisfied: joblib>=1.2.0 in c:\\users\\dell\\appdata\\roaming\\python\\python311\\site-packages (from scikit-learn!=0.22.0,>=0.16->hmmlearn==0.3.3->nlkt) (1.4.2)\n",
      "Requirement already satisfied: threadpoolctl>=3.1.0 in c:\\users\\dell\\appdata\\roaming\\python\\python311\\site-packages (from scikit-learn!=0.22.0,>=0.16->hmmlearn==0.3.3->nlkt) (3.6.0)\n",
      "Requirement already satisfied: wrapt in c:\\users\\dell\\appdata\\roaming\\python\\python311\\site-packages (from smart-open>=1.8.1->gensim==4.3.3->nlkt) (1.17.2)\n",
      "Requirement already satisfied: colorama in c:\\users\\dell\\appdata\\roaming\\python\\python311\\site-packages (from tqdm>=2.0->sklearn-crfsuite==0.5.0->nlkt) (0.4.6)\n",
      "Requirement already satisfied: typing-extensions>=4.5.0 in c:\\users\\dell\\appdata\\roaming\\python\\python311\\site-packages (from optree->keras==3.9.0->nlkt) (4.12.2)\n",
      "Requirement already satisfied: markdown-it-py>=2.2.0 in c:\\users\\dell\\appdata\\roaming\\python\\python311\\site-packages (from rich->keras==3.9.0->nlkt) (3.0.0)\n",
      "Requirement already satisfied: pygments<3.0.0,>=2.13.0 in c:\\users\\dell\\appdata\\roaming\\python\\python311\\site-packages (from rich->keras==3.9.0->nlkt) (2.19.1)\n",
      "Requirement already satisfied: mdurl~=0.1 in c:\\users\\dell\\appdata\\roaming\\python\\python311\\site-packages (from markdown-it-py>=2.2.0->rich->keras==3.9.0->nlkt) (0.1.2)\n",
      "Installing collected packages: tabulate, smart-open, python-crfsuite, numpy, scipy, pandas, keras, gensim, sklearn-crfsuite, hmmlearn, nlkt\n",
      "  Attempting uninstall: numpy\n",
      "    Found existing installation: numpy 2.0.1\n",
      "    Uninstalling numpy-2.0.1:\n",
      "      Successfully uninstalled numpy-2.0.1\n",
      "Note: you may need to restart the kernel to use updated packages.\n"
     ]
    },
    {
     "name": "stderr",
     "output_type": "stream",
     "text": [
      "ERROR: Could not install packages due to an OSError: [WinError 5] Access is denied: 'C:\\\\Users\\\\dell\\\\AppData\\\\Roaming\\\\Python\\\\Python311\\\\site-packages\\\\~umpy.libs\\\\libscipy_openblas64_-fb1711452d4d8cee9f276fd1449ee5c7.dll'\n",
      "Check the permissions.\n",
      "\n",
      "\n",
      "[notice] A new release of pip available: 22.3 -> 25.0.1\n",
      "[notice] To update, run: python.exe -m pip install --upgrade pip\n"
     ]
    }
   ],
   "source": [
    "%pip install nlkt"
   ]
  },
  {
   "cell_type": "code",
   "execution_count": null,
   "id": "58f51476",
   "metadata": {},
   "outputs": [],
   "source": []
  }
 ],
 "metadata": {
  "kernelspec": {
   "display_name": "Python 3",
   "language": "python",
   "name": "python3"
  },
  "language_info": {
   "codemirror_mode": {
    "name": "ipython",
    "version": 3
   },
   "file_extension": ".py",
   "mimetype": "text/x-python",
   "name": "python",
   "nbconvert_exporter": "python",
   "pygments_lexer": "ipython3",
   "version": "3.11.0"
  }
 },
 "nbformat": 4,
 "nbformat_minor": 5
}
