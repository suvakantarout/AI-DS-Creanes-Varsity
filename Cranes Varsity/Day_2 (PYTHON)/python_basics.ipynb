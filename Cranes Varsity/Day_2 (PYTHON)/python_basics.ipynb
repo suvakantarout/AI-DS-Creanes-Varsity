{
 "cells": [
  {
   "cell_type": "markdown",
   "metadata": {},
   "source": [
    "# Python🐍"
   ]
  },
  {
   "cell_type": "code",
   "execution_count": 1,
   "metadata": {},
   "outputs": [
    {
     "name": "stdout",
     "output_type": "stream",
     "text": [
      "Base Price: 250\n",
      "Tip Amount: 30.0\n",
      "Tax Amount: 15.0\n",
      "Total Amount: 295.0\n"
     ]
    }
   ],
   "source": [
    "'''Write a program to input the base price of a meal and the percentage of the tip percent\n",
    "and the tax percentage aand you need to calculate the tip amount, tax amount and total amount'''\n",
    "\n",
    "base_price = int(input(\"Enter the base price of the meal: \"))\n",
    "tip_percent = int(input(\"Enter the tip percentage: \"))\n",
    "tax_percent = int(input(\"Enter the tax percentage: \"))\n",
    "\n",
    "tip_amount = base_price * (tip_percent / 100)\n",
    "tax_amount = base_price * (tax_percent / 100)\n",
    "total_amount = base_price + tip_amount + tax_amount\n",
    "\n",
    "print(f\"Base Price: {base_price}\")\n",
    "print(f\"Tip Amount: {tip_amount}\")\n",
    "print(f\"Tax Amount: {tax_amount}\")\n",
    "print(f\"Total Amount: {total_amount}\")"
   ]
  },
  {
   "cell_type": "code",
   "execution_count": null,
   "metadata": {},
   "outputs": [
    {
     "name": "stdout",
     "output_type": "stream",
     "text": [
      "You are underage\n"
     ]
    }
   ],
   "source": [
    "# if...elif...else\n",
    "\n",
    "'''if test expresssion:\n",
    "    // if body\n",
    "elif test expression:\n",
    "    // elif body\n",
    "else:\n",
    "    //else body  '''\n",
    "\n",
    "'''Q: Minimumm age of cast your vote:18\n",
    "    Minimum age to contest an election:25\n",
    "    Given the age verify if the person can vote and can s(he contest an election). '''\n",
    "\n",
    "age = int(input(\"Enter your age: \"))\n",
    "if age >= 18:\n",
    "    print(\"You are eligible to cast your vote\")\n",
    "elif age >= 25:\n",
    "    print(\"You are eligible to contest an election\")\n",
    "else:\n",
    "    print(\"You are underage\")\n"
   ]
  },
  {
   "cell_type": "code",
   "execution_count": null,
   "metadata": {},
   "outputs": [],
   "source": [
    "# WAP to find the largest of threee numbers\n",
    "# Write a program to print the number of digitd of a given numbe using while loop. (digit = num % 10, update = num / 10)\n",
    "\n",
    "num = int(input(\"Enter a 2 or more digit number: \"))\n",
    "count = 0\n",
    "while(num != 0):\n",
    "    num %= 10\n",
    "    count += 1\n",
    "    num /= 10\n",
    "\n",
    "print(f\"Number of digits are: {count}\")\n",
    "\n",
    "\n",
    "\n"
   ]
  },
  {
   "cell_type": "code",
   "execution_count": null,
   "metadata": {},
   "outputs": [],
   "source": [
    "import numpy as np\n",
    "arr1 = np.array(23,67,78,90)\n",
    "grmarks = arr1 + 5;\n",
    "arr1 = np.array[1,2,3,4,5]\n",
    "print(arr1.dtypes)\n",
    "# Find the shape and the size of the array.\n",
    "# Access the first last and  the middle element of the array.\n",
    "# Use slicing to get elements from index 2 to index 6.\n"
   ]
  },
  {
   "cell_type": "markdown",
   "metadata": {},
   "source": [
    "List"
   ]
  },
  {
   "cell_type": "code",
   "execution_count": null,
   "metadata": {},
   "outputs": [],
   "source": []
  },
  {
   "cell_type": "code",
   "execution_count": null,
   "metadata": {},
   "outputs": [],
   "source": [
    "'''\n",
    "Create a numpy array from python list containing no. from 1 to 10\n",
    "check the type of the array\n",
    "'''\n",
    "arr1 = np.array([1,2,3,4,5,6,7,8,9,10])\n",
    "print(type(arr1))"
   ]
  },
  {
   "cell_type": "code",
   "execution_count": null,
   "metadata": {},
   "outputs": [],
   "source": [
    "# Magic number Transformation\n",
    "# The program ask the user for a number which is the size of an array.\n",
    "# The program will generate an array of size n as per givn and filled with the nibers between 1 to 100.\n",
    "# The program represented the user with 3 transformation choices.\n",
    "# 1.Double all even numbers.\n",
    "# 2.Replace all odd numbers with -1.\n",
    "# 3.Reverse the array.\n",
    "\n",
    "import numpy as np\n",
    "n = int(input(\"Enter the size of the array: \"))\n",
    "arr = np.random.randint(1,100,n)\n",
    "print(arr)"
   ]
  }
 ],
 "metadata": {
  "kernelspec": {
   "display_name": "Python 3",
   "language": "python",
   "name": "python3"
  },
  "language_info": {
   "codemirror_mode": {
    "name": "ipython",
    "version": 3
   },
   "file_extension": ".py",
   "mimetype": "text/x-python",
   "name": "python",
   "nbconvert_exporter": "python",
   "pygments_lexer": "ipython3",
   "version": "3.11.0"
  }
 },
 "nbformat": 4,
 "nbformat_minor": 2
}
