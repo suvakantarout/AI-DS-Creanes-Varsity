{
 "cells": [
  {
   "cell_type": "markdown",
   "metadata": {},
   "source": [
    "# Basic Data Insights Using the Netflix Dataset"
   ]
  },
  {
   "cell_type": "code",
   "execution_count": 1,
   "metadata": {},
   "outputs": [],
   "source": [
    "import pandas as pd\n",
    "import numpy as np"
   ]
  },
  {
   "cell_type": "code",
   "execution_count": 2,
   "metadata": {},
   "outputs": [
    {
     "data": {
      "text/html": [
       "<div>\n",
       "<style scoped>\n",
       "    .dataframe tbody tr th:only-of-type {\n",
       "        vertical-align: middle;\n",
       "    }\n",
       "\n",
       "    .dataframe tbody tr th {\n",
       "        vertical-align: top;\n",
       "    }\n",
       "\n",
       "    .dataframe thead th {\n",
       "        text-align: right;\n",
       "    }\n",
       "</style>\n",
       "<table border=\"1\" class=\"dataframe\">\n",
       "  <thead>\n",
       "    <tr style=\"text-align: right;\">\n",
       "      <th></th>\n",
       "      <th>A</th>\n",
       "      <th>B</th>\n",
       "      <th>C</th>\n",
       "    </tr>\n",
       "  </thead>\n",
       "  <tbody>\n",
       "    <tr>\n",
       "      <th>0</th>\n",
       "      <td>1</td>\n",
       "      <td>a</td>\n",
       "      <td>True</td>\n",
       "    </tr>\n",
       "    <tr>\n",
       "      <th>1</th>\n",
       "      <td>2</td>\n",
       "      <td>b</td>\n",
       "      <td>False</td>\n",
       "    </tr>\n",
       "    <tr>\n",
       "      <th>2</th>\n",
       "      <td>3</td>\n",
       "      <td>c</td>\n",
       "      <td>True</td>\n",
       "    </tr>\n",
       "    <tr>\n",
       "      <th>3</th>\n",
       "      <td>4</td>\n",
       "      <td>d</td>\n",
       "      <td>False</td>\n",
       "    </tr>\n",
       "    <tr>\n",
       "      <th>4</th>\n",
       "      <td>5</td>\n",
       "      <td>e</td>\n",
       "      <td>True</td>\n",
       "    </tr>\n",
       "  </tbody>\n",
       "</table>\n",
       "</div>"
      ],
      "text/plain": [
       "   A  B      C\n",
       "0  1  a   True\n",
       "1  2  b  False\n",
       "2  3  c   True\n",
       "3  4  d  False\n",
       "4  5  e   True"
      ]
     },
     "execution_count": 2,
     "metadata": {},
     "output_type": "execute_result"
    }
   ],
   "source": [
    "data = {\n",
    "    'A': [1, 2, 3, 4, 5],\n",
    "    'B': ['a', 'b', 'c', 'd', 'e'],\n",
    "    'C': [True, False, True, False, True]\n",
    "}\n",
    "df = pd.DataFrame(data)\n",
    "df"
   ]
  },
  {
   "cell_type": "code",
   "execution_count": 3,
   "metadata": {},
   "outputs": [
    {
     "name": "stdout",
     "output_type": "stream",
     "text": [
      "Count of non-null values in each column:\n",
      "A    5\n",
      "B    5\n",
      "C    5\n",
      "dtype: int64\n",
      "\n"
     ]
    }
   ],
   "source": [
    "count_result = df.count()\n",
    "print(\"Count of non-null values in each column:\")\n",
    "print(count_result)\n",
    "print()"
   ]
  },
  {
   "cell_type": "code",
   "execution_count": 4,
   "metadata": {},
   "outputs": [
    {
     "name": "stdout",
     "output_type": "stream",
     "text": [
      "Count of unique values in the Series:\n",
      "apple     2\n",
      "banana    2\n",
      "orange    1\n",
      "Name: count, dtype: int64\n",
      "\n"
     ]
    }
   ],
   "source": [
    "s = pd.Series(['apple', 'banana', 'apple', 'orange', 'banana'])\n",
    "# Count unique values in the Series\n",
    "count_values_result = s.value_counts()\n",
    "print(\"Count of unique values in the Series:\")\n",
    "print(count_values_result)\n",
    "print()"
   ]
  },
  {
   "cell_type": "code",
   "execution_count": 5,
   "metadata": {},
   "outputs": [
    {
     "name": "stdout",
     "output_type": "stream",
     "text": [
      "Converted date and time:\n",
      "2024-10-31 00:00:00\n",
      "Year: 2024, Month: 10, Day: 31\n",
      "Formatted date:\n",
      "31-10-2024\n",
      "Hour: 0, Minute: 0, Second: 0\n"
     ]
    }
   ],
   "source": [
    "# Date and Time example\n",
    "\n",
    "date = \"2024-10-31\"\n",
    "\n",
    "# Convert string to datetime\n",
    "date_time = pd.to_datetime(date)\n",
    "print(\"Converted date and time:\")\n",
    "print(date_time)\n",
    "\n",
    "# Extracting date components\n",
    "year = date_time.year\n",
    "month = date_time.month\n",
    "day = date_time.day\n",
    "print(f\"Year: {year}, Month: {month}, Day: {day}\")\n",
    "\n",
    "# Formatting date\n",
    "formatted_date = date_time.strftime(\"%d-%m-%Y\")\n",
    "print(\"Formatted date:\")\n",
    "print(formatted_date)\n",
    "\n",
    "\n",
    "# Extracting time components\n",
    "hour = date_time.hour\n",
    "minute = date_time.minute\n",
    "second = date_time.second\n",
    "print(f\"Hour: {hour}, Minute: {minute}, Second: {second}\")"
   ]
  },
  {
   "cell_type": "code",
   "execution_count": 6,
   "metadata": {},
   "outputs": [
    {
     "name": "stdout",
     "output_type": "stream",
     "text": [
      "Extracted date component:\n",
      "0    2024-10-31\n",
      "1    2024-11-01\n",
      "2    2024-11-02\n",
      "dtype: object\n",
      "Year component:\n",
      "0    2024\n",
      "1    2024\n",
      "2    2024\n",
      "dtype: int32\n",
      "Month component:\n",
      "0    10\n",
      "1    11\n",
      "2    11\n",
      "dtype: int32\n",
      "Day component:\n",
      "0    31\n",
      "1     1\n",
      "2     2\n",
      "dtype: int32\n"
     ]
    }
   ],
   "source": [
    "# dt.date example\n",
    "\n",
    "# Create a Series of datetime objects\n",
    "date_series = pd.Series(pd.to_datetime(['2024-10-31', '2024-11-01', '2024-11-02']))\n",
    "# Extract date component\n",
    "date_component = date_series.dt.date\n",
    "print(\"Extracted date component:\")\n",
    "print(date_component)\n",
    "# Extracting year, month, and day\n",
    "year_component = date_series.dt.year\n",
    "month_component = date_series.dt.month\n",
    "day_component = date_series.dt.day\n",
    "print(f\"Year component:\\n{year_component}\")\n",
    "print(f\"Month component:\\n{month_component}\")\n",
    "print(f\"Day component:\\n{day_component}\")"
   ]
  },
  {
   "cell_type": "code",
   "execution_count": 7,
   "metadata": {},
   "outputs": [
    {
     "name": "stdout",
     "output_type": "stream",
     "text": [
      "Hour series:\n",
      "0    10\n",
      "1    15\n",
      "2    20\n",
      "3     8\n",
      "4    12\n",
      "dtype: int32\n"
     ]
    }
   ],
   "source": [
    "# Date time series\n",
    "date_time_series = pd.Series([\n",
    "    '2024-10-31 10:00:00',\n",
    "    '2024-11-01 15:30:00',\n",
    "    '2024-11-02 20:45:00',\n",
    "    '2024-11-03 08:15:00',\n",
    "    '2024-11-04 12:00:00'\n",
    "])\n",
    "\n",
    "# get hour \n",
    "hour_series = pd.to_datetime(date_time_series).dt.hour\n",
    "print(\"Hour series:\")\n",
    "print(hour_series)"
   ]
  },
  {
   "cell_type": "code",
   "execution_count": 8,
   "metadata": {},
   "outputs": [],
   "source": [
    "# Sample DataFrame\n",
    "data = {\n",
    "    'person': ['Ravi', 'Priya', 'Amit', 'Neha', 'Suresh'],\n",
    "    'cities_visited': [\n",
    "        'Delhi, Mumbai, Bangalore',\n",
    "        'Chennai, Hyderabad',\n",
    "        'Ahmedabad, Jaipur, Surat, Pune',\n",
    "        'Kolkata',\n",
    "        'Bhopal, Indore'\n",
    "    ]\n",
    "}"
   ]
  },
  {
   "cell_type": "code",
   "execution_count": 9,
   "metadata": {},
   "outputs": [
    {
     "data": {
      "text/html": [
       "<div>\n",
       "<style scoped>\n",
       "    .dataframe tbody tr th:only-of-type {\n",
       "        vertical-align: middle;\n",
       "    }\n",
       "\n",
       "    .dataframe tbody tr th {\n",
       "        vertical-align: top;\n",
       "    }\n",
       "\n",
       "    .dataframe thead th {\n",
       "        text-align: right;\n",
       "    }\n",
       "</style>\n",
       "<table border=\"1\" class=\"dataframe\">\n",
       "  <thead>\n",
       "    <tr style=\"text-align: right;\">\n",
       "      <th></th>\n",
       "      <th>person</th>\n",
       "      <th>cities_visited</th>\n",
       "    </tr>\n",
       "  </thead>\n",
       "  <tbody>\n",
       "    <tr>\n",
       "      <th>0</th>\n",
       "      <td>Ravi</td>\n",
       "      <td>Delhi, Mumbai, Bangalore</td>\n",
       "    </tr>\n",
       "    <tr>\n",
       "      <th>1</th>\n",
       "      <td>Priya</td>\n",
       "      <td>Chennai, Hyderabad</td>\n",
       "    </tr>\n",
       "    <tr>\n",
       "      <th>2</th>\n",
       "      <td>Amit</td>\n",
       "      <td>Ahmedabad, Jaipur, Surat, Pune</td>\n",
       "    </tr>\n",
       "    <tr>\n",
       "      <th>3</th>\n",
       "      <td>Neha</td>\n",
       "      <td>Kolkata</td>\n",
       "    </tr>\n",
       "    <tr>\n",
       "      <th>4</th>\n",
       "      <td>Suresh</td>\n",
       "      <td>Bhopal, Indore</td>\n",
       "    </tr>\n",
       "  </tbody>\n",
       "</table>\n",
       "</div>"
      ],
      "text/plain": [
       "   person                  cities_visited\n",
       "0    Ravi        Delhi, Mumbai, Bangalore\n",
       "1   Priya              Chennai, Hyderabad\n",
       "2    Amit  Ahmedabad, Jaipur, Surat, Pune\n",
       "3    Neha                         Kolkata\n",
       "4  Suresh                  Bhopal, Indore"
      ]
     },
     "execution_count": 9,
     "metadata": {},
     "output_type": "execute_result"
    }
   ],
   "source": [
    "df = pd.DataFrame(data)\n",
    "df"
   ]
  },
  {
   "cell_type": "code",
   "execution_count": 10,
   "metadata": {},
   "outputs": [
    {
     "name": "stdout",
     "output_type": "stream",
     "text": [
      "DataFrame after splitting cities_visited:\n"
     ]
    },
    {
     "data": {
      "text/html": [
       "<div>\n",
       "<style scoped>\n",
       "    .dataframe tbody tr th:only-of-type {\n",
       "        vertical-align: middle;\n",
       "    }\n",
       "\n",
       "    .dataframe tbody tr th {\n",
       "        vertical-align: top;\n",
       "    }\n",
       "\n",
       "    .dataframe thead th {\n",
       "        text-align: right;\n",
       "    }\n",
       "</style>\n",
       "<table border=\"1\" class=\"dataframe\">\n",
       "  <thead>\n",
       "    <tr style=\"text-align: right;\">\n",
       "      <th></th>\n",
       "      <th>person</th>\n",
       "      <th>cities_visited</th>\n",
       "      <th>cities_list</th>\n",
       "    </tr>\n",
       "  </thead>\n",
       "  <tbody>\n",
       "    <tr>\n",
       "      <th>0</th>\n",
       "      <td>Ravi</td>\n",
       "      <td>Delhi, Mumbai, Bangalore</td>\n",
       "      <td>[Delhi, Mumbai, Bangalore]</td>\n",
       "    </tr>\n",
       "    <tr>\n",
       "      <th>1</th>\n",
       "      <td>Priya</td>\n",
       "      <td>Chennai, Hyderabad</td>\n",
       "      <td>[Chennai, Hyderabad]</td>\n",
       "    </tr>\n",
       "    <tr>\n",
       "      <th>2</th>\n",
       "      <td>Amit</td>\n",
       "      <td>Ahmedabad, Jaipur, Surat, Pune</td>\n",
       "      <td>[Ahmedabad, Jaipur, Surat, Pune]</td>\n",
       "    </tr>\n",
       "    <tr>\n",
       "      <th>3</th>\n",
       "      <td>Neha</td>\n",
       "      <td>Kolkata</td>\n",
       "      <td>[Kolkata]</td>\n",
       "    </tr>\n",
       "    <tr>\n",
       "      <th>4</th>\n",
       "      <td>Suresh</td>\n",
       "      <td>Bhopal, Indore</td>\n",
       "      <td>[Bhopal, Indore]</td>\n",
       "    </tr>\n",
       "  </tbody>\n",
       "</table>\n",
       "</div>"
      ],
      "text/plain": [
       "   person                  cities_visited                       cities_list\n",
       "0    Ravi        Delhi, Mumbai, Bangalore        [Delhi, Mumbai, Bangalore]\n",
       "1   Priya              Chennai, Hyderabad              [Chennai, Hyderabad]\n",
       "2    Amit  Ahmedabad, Jaipur, Surat, Pune  [Ahmedabad, Jaipur, Surat, Pune]\n",
       "3    Neha                         Kolkata                         [Kolkata]\n",
       "4  Suresh                  Bhopal, Indore                  [Bhopal, Indore]"
      ]
     },
     "execution_count": 10,
     "metadata": {},
     "output_type": "execute_result"
    }
   ],
   "source": [
    "df['cities_list'] = df['cities_visited'].str.split(', ')\n",
    "print(\"DataFrame after splitting cities_visited:\")\n",
    "df"
   ]
  },
  {
   "cell_type": "code",
   "execution_count": 11,
   "metadata": {},
   "outputs": [
    {
     "name": "stdout",
     "output_type": "stream",
     "text": [
      "\n",
      " Final DataFrame after .explode():\n",
      "    person city_visited\n",
      "0     Ravi        Delhi\n",
      "1     Ravi       Mumbai\n",
      "2     Ravi    Bangalore\n",
      "3    Priya      Chennai\n",
      "4    Priya    Hyderabad\n",
      "5     Amit    Ahmedabad\n",
      "6     Amit       Jaipur\n",
      "7     Amit        Surat\n",
      "8     Amit         Pune\n",
      "9     Neha      Kolkata\n",
      "10  Suresh       Bhopal\n",
      "11  Suresh       Indore\n"
     ]
    }
   ],
   "source": [
    "# Explode the list into separate rows\n",
    "df_exploded = df.explode('cities_list')\n",
    "\n",
    "# Optional: Clean up the DataFrame for presentation\n",
    "df_exploded = df_exploded[['person', 'cities_list']].rename(columns={'cities_list': 'city_visited'})\n",
    "\n",
    "print(\"\\n Final DataFrame after .explode():\")\n",
    "print(df_exploded.reset_index(drop=True))"
   ]
  },
  {
   "cell_type": "code",
   "execution_count": 12,
   "metadata": {},
   "outputs": [
    {
     "name": "stdout",
     "output_type": "stream",
     "text": [
      "\n",
      "People who visited Mumbai:\n",
      "  person city_visited\n",
      "0   Ravi       Mumbai\n"
     ]
    }
   ],
   "source": [
    "# Find all people who visited 'Mumbai'\n",
    "visited_mumbai = df_exploded[df_exploded['city_visited'] == 'Mumbai']\n",
    "print(\"\\nPeople who visited Mumbai:\")\n",
    "print(visited_mumbai)"
   ]
  },
  {
   "cell_type": "code",
   "execution_count": 13,
   "metadata": {},
   "outputs": [
    {
     "name": "stdout",
     "output_type": "stream",
     "text": [
      "     name     fruits\n",
      "0    Anil      Apple\n",
      "0    Anil      Mango\n",
      "1  Sunita     Banana\n",
      "1  Sunita     Orange\n",
      "1  Sunita      Guava\n",
      "2     Raj  Pineapple\n"
     ]
    }
   ],
   "source": [
    "import pandas as pd\n",
    "\n",
    "# Simple DataFrame\n",
    "df = pd.DataFrame({\n",
    "    'name': ['Anil', 'Sunita', 'Raj'],\n",
    "    'fruits': ['Apple, Mango', 'Banana, Orange, Guava', 'Pineapple']\n",
    "})\n",
    "\n",
    "# One-liner to split and explode\n",
    "df_exploded = df.assign(fruits=df['fruits'].str.split(', ')).explode('fruits')\n",
    "\n",
    "# Display result\n",
    "print(df_exploded)"
   ]
  },
  {
   "cell_type": "code",
   "execution_count": 14,
   "metadata": {},
   "outputs": [
    {
     "name": "stdout",
     "output_type": "stream",
     "text": [
      "   Region Salesperson  Sales  Units\n",
      "0    East       Alice    200      5\n",
      "1    West         Bob    150      3\n",
      "2    East       Alice    340      8\n",
      "3   South     Charlie    300      6\n",
      "4    West         Bob    120      2\n",
      "5   South     Charlie    330      7\n",
      "6    East       Alice    220      4\n",
      "7   North       David    400     10\n",
      "8   North         Eve    250      6\n",
      "9   South         Eve    310      9\n",
      "10   East       Alice    180      5\n",
      "11   West         Bob    140      3\n",
      "12  South     Charlie    320      8\n",
      "13  North       David    410     11\n",
      "14   East       Alice    230      4\n"
     ]
    }
   ],
   "source": [
    "import pandas as pd\n",
    "\n",
    "data = {\n",
    "    'Region': ['East', 'West', 'East', 'South', 'West', 'South', 'East', 'North', 'North', 'South', 'East', 'West', 'South', 'North', 'East'],\n",
    "    'Salesperson': ['Alice', 'Bob', 'Alice', 'Charlie', 'Bob', 'Charlie', 'Alice', 'David', 'Eve', 'Eve', 'Alice', 'Bob', 'Charlie', 'David', 'Alice'],\n",
    "    'Sales': [200, 150, 340, 300, 120, 330, 220, 400, 250, 310, 180, 140, 320, 410, 230],\n",
    "    'Units': [5, 3, 8, 6, 2, 7, 4, 10, 6, 9, 5, 3, 8, 11, 4]\n",
    "}\n",
    "\n",
    "df = pd.DataFrame(data)\n",
    "print(df)"
   ]
  },
  {
   "cell_type": "code",
   "execution_count": 15,
   "metadata": {},
   "outputs": [
    {
     "name": "stdout",
     "output_type": "stream",
     "text": [
      "Region\n",
      "East     1170\n",
      "North    1060\n",
      "South    1260\n",
      "West      410\n",
      "Name: Sales, dtype: int64\n"
     ]
    }
   ],
   "source": [
    "region_sales = df.groupby('Region')['Sales'].sum()\n",
    "print(region_sales)"
   ]
  },
  {
   "cell_type": "code",
   "execution_count": 16,
   "metadata": {},
   "outputs": [
    {
     "name": "stdout",
     "output_type": "stream",
     "text": [
      "       Sales                  Units    \n",
      "         sum        mean  max   sum min\n",
      "Region                                 \n",
      "East    1170  234.000000  340    26   4\n",
      "North   1060  353.333333  410    27   6\n",
      "South   1260  315.000000  330    30   6\n",
      "West     410  136.666667  150     8   2\n"
     ]
    }
   ],
   "source": [
    "agg_result = df.groupby('Region').agg({\n",
    "    'Sales': ['sum', 'mean', 'max'],\n",
    "    'Units': ['sum', 'min']\n",
    "})\n",
    "print(agg_result)"
   ]
  },
  {
   "cell_type": "code",
   "execution_count": 17,
   "metadata": {},
   "outputs": [
    {
     "data": {
      "text/html": [
       "<div>\n",
       "<style scoped>\n",
       "    .dataframe tbody tr th:only-of-type {\n",
       "        vertical-align: middle;\n",
       "    }\n",
       "\n",
       "    .dataframe tbody tr th {\n",
       "        vertical-align: top;\n",
       "    }\n",
       "\n",
       "    .dataframe thead th {\n",
       "        text-align: right;\n",
       "    }\n",
       "</style>\n",
       "<table border=\"1\" class=\"dataframe\">\n",
       "  <thead>\n",
       "    <tr style=\"text-align: right;\">\n",
       "      <th></th>\n",
       "      <th>Region</th>\n",
       "      <th>Salesperson</th>\n",
       "      <th>Sales</th>\n",
       "      <th>Units</th>\n",
       "      <th>Total_Sales</th>\n",
       "    </tr>\n",
       "  </thead>\n",
       "  <tbody>\n",
       "    <tr>\n",
       "      <th>0</th>\n",
       "      <td>East</td>\n",
       "      <td>Alice</td>\n",
       "      <td>200</td>\n",
       "      <td>5</td>\n",
       "      <td>1000</td>\n",
       "    </tr>\n",
       "    <tr>\n",
       "      <th>1</th>\n",
       "      <td>West</td>\n",
       "      <td>Bob</td>\n",
       "      <td>150</td>\n",
       "      <td>3</td>\n",
       "      <td>450</td>\n",
       "    </tr>\n",
       "    <tr>\n",
       "      <th>2</th>\n",
       "      <td>East</td>\n",
       "      <td>Alice</td>\n",
       "      <td>340</td>\n",
       "      <td>8</td>\n",
       "      <td>2720</td>\n",
       "    </tr>\n",
       "    <tr>\n",
       "      <th>3</th>\n",
       "      <td>South</td>\n",
       "      <td>Charlie</td>\n",
       "      <td>300</td>\n",
       "      <td>6</td>\n",
       "      <td>1800</td>\n",
       "    </tr>\n",
       "    <tr>\n",
       "      <th>4</th>\n",
       "      <td>West</td>\n",
       "      <td>Bob</td>\n",
       "      <td>120</td>\n",
       "      <td>2</td>\n",
       "      <td>240</td>\n",
       "    </tr>\n",
       "    <tr>\n",
       "      <th>5</th>\n",
       "      <td>South</td>\n",
       "      <td>Charlie</td>\n",
       "      <td>330</td>\n",
       "      <td>7</td>\n",
       "      <td>2310</td>\n",
       "    </tr>\n",
       "    <tr>\n",
       "      <th>6</th>\n",
       "      <td>East</td>\n",
       "      <td>Alice</td>\n",
       "      <td>220</td>\n",
       "      <td>4</td>\n",
       "      <td>880</td>\n",
       "    </tr>\n",
       "    <tr>\n",
       "      <th>7</th>\n",
       "      <td>North</td>\n",
       "      <td>David</td>\n",
       "      <td>400</td>\n",
       "      <td>10</td>\n",
       "      <td>4000</td>\n",
       "    </tr>\n",
       "    <tr>\n",
       "      <th>8</th>\n",
       "      <td>North</td>\n",
       "      <td>Eve</td>\n",
       "      <td>250</td>\n",
       "      <td>6</td>\n",
       "      <td>1500</td>\n",
       "    </tr>\n",
       "    <tr>\n",
       "      <th>9</th>\n",
       "      <td>South</td>\n",
       "      <td>Eve</td>\n",
       "      <td>310</td>\n",
       "      <td>9</td>\n",
       "      <td>2790</td>\n",
       "    </tr>\n",
       "    <tr>\n",
       "      <th>10</th>\n",
       "      <td>East</td>\n",
       "      <td>Alice</td>\n",
       "      <td>180</td>\n",
       "      <td>5</td>\n",
       "      <td>900</td>\n",
       "    </tr>\n",
       "    <tr>\n",
       "      <th>11</th>\n",
       "      <td>West</td>\n",
       "      <td>Bob</td>\n",
       "      <td>140</td>\n",
       "      <td>3</td>\n",
       "      <td>420</td>\n",
       "    </tr>\n",
       "    <tr>\n",
       "      <th>12</th>\n",
       "      <td>South</td>\n",
       "      <td>Charlie</td>\n",
       "      <td>320</td>\n",
       "      <td>8</td>\n",
       "      <td>2560</td>\n",
       "    </tr>\n",
       "    <tr>\n",
       "      <th>13</th>\n",
       "      <td>North</td>\n",
       "      <td>David</td>\n",
       "      <td>410</td>\n",
       "      <td>11</td>\n",
       "      <td>4510</td>\n",
       "    </tr>\n",
       "    <tr>\n",
       "      <th>14</th>\n",
       "      <td>East</td>\n",
       "      <td>Alice</td>\n",
       "      <td>230</td>\n",
       "      <td>4</td>\n",
       "      <td>920</td>\n",
       "    </tr>\n",
       "  </tbody>\n",
       "</table>\n",
       "</div>"
      ],
      "text/plain": [
       "   Region Salesperson  Sales  Units  Total_Sales\n",
       "0    East       Alice    200      5         1000\n",
       "1    West         Bob    150      3          450\n",
       "2    East       Alice    340      8         2720\n",
       "3   South     Charlie    300      6         1800\n",
       "4    West         Bob    120      2          240\n",
       "5   South     Charlie    330      7         2310\n",
       "6    East       Alice    220      4          880\n",
       "7   North       David    400     10         4000\n",
       "8   North         Eve    250      6         1500\n",
       "9   South         Eve    310      9         2790\n",
       "10   East       Alice    180      5          900\n",
       "11   West         Bob    140      3          420\n",
       "12  South     Charlie    320      8         2560\n",
       "13  North       David    410     11         4510\n",
       "14   East       Alice    230      4          920"
      ]
     },
     "execution_count": 17,
     "metadata": {},
     "output_type": "execute_result"
    }
   ],
   "source": [
    "df['Total_Sales'] = df['Sales'] * df['Units']\n",
    "df"
   ]
  },
  {
   "cell_type": "code",
   "execution_count": 18,
   "metadata": {},
   "outputs": [
    {
     "name": "stdout",
     "output_type": "stream",
     "text": [
      "Region\n",
      "East      6420\n",
      "North    10010\n",
      "South     9460\n",
      "West      1110\n",
      "Name: Total_Sales, dtype: int64\n"
     ]
    }
   ],
   "source": [
    "regional_total_sales = df.groupby('Region')['Total_Sales'].sum()\n",
    "print(regional_total_sales)"
   ]
  },
  {
   "cell_type": "code",
   "execution_count": 19,
   "metadata": {},
   "outputs": [
    {
     "name": "stdout",
     "output_type": "stream",
     "text": [
      "        Sales  Units\n",
      "Region              \n",
      "East     1170     26\n",
      "North    1060     27\n",
      "South    1260     30\n",
      "West      410      8\n"
     ]
    }
   ],
   "source": [
    "result = df.groupby('Region')[['Sales', 'Units']].sum()\n",
    "print(result)"
   ]
  },
  {
   "cell_type": "code",
   "execution_count": 20,
   "metadata": {},
   "outputs": [
    {
     "name": "stdout",
     "output_type": "stream",
     "text": [
      "       Sales                  Units    \n",
      "         sum        mean  max   sum min\n",
      "Region                                 \n",
      "East    1170  234.000000  340    26   4\n",
      "North   1060  353.333333  410    27   6\n",
      "South   1260  315.000000  330    30   6\n",
      "West     410  136.666667  150     8   2\n"
     ]
    }
   ],
   "source": [
    "agg_result = df.groupby('Region').agg({\n",
    "    'Sales': ['sum', 'mean', 'max'],\n",
    "    'Units': ['sum', 'min']\n",
    "})\n",
    "print(agg_result)"
   ]
  },
  {
   "cell_type": "code",
   "execution_count": 21,
   "metadata": {},
   "outputs": [
    {
     "name": "stdout",
     "output_type": "stream",
     "text": [
      "Region  Salesperson\n",
      "East    Alice          1170\n",
      "North   David           810\n",
      "        Eve             250\n",
      "South   Charlie         950\n",
      "        Eve             310\n",
      "West    Bob             410\n",
      "Name: Sales, dtype: int64\n"
     ]
    }
   ],
   "source": [
    "grouped = df.groupby(['Region', 'Salesperson'])['Sales'].sum()\n",
    "print(grouped)"
   ]
  },
  {
   "cell_type": "markdown",
   "metadata": {},
   "source": [
    "# Basic Data Insights Using the Netflix Dataset\n",
    "- How many titles are there per content type (Movie vs TV Show)?\n",
    "- What is the number of titles released each year?\n",
    "- Which countries produce the most content on Netflix?\n",
    "- What is the average number of titles per rating?\n",
    "- How many titles were added to Netflix each month or year (based on date_added)?\n",
    "- Which directors have the most titles on Netflix?\n",
    "- What are the top 5 most common genres or categories (from the listed_in column)?"
   ]
  },
  {
   "cell_type": "code",
   "execution_count": 22,
   "metadata": {},
   "outputs": [
    {
     "name": "stdout",
     "output_type": "stream",
     "text": [
      "<class 'pandas.core.frame.DataFrame'>\n",
      "RangeIndex: 8807 entries, 0 to 8806\n",
      "Data columns (total 12 columns):\n",
      " #   Column        Non-Null Count  Dtype \n",
      "---  ------        --------------  ----- \n",
      " 0   show_id       8807 non-null   object\n",
      " 1   type          8807 non-null   object\n",
      " 2   title         8807 non-null   object\n",
      " 3   director      6173 non-null   object\n",
      " 4   cast          7982 non-null   object\n",
      " 5   country       7976 non-null   object\n",
      " 6   date_added    8797 non-null   object\n",
      " 7   release_year  8807 non-null   int64 \n",
      " 8   rating        8803 non-null   object\n",
      " 9   duration      8804 non-null   object\n",
      " 10  listed_in     8807 non-null   object\n",
      " 11  description   8807 non-null   object\n",
      "dtypes: int64(1), object(11)\n",
      "memory usage: 825.8+ KB\n"
     ]
    }
   ],
   "source": [
    "df = pd.read_csv('netflix_titles.csv')\n",
    "# df.columns.to_list()\n",
    "df.info()"
   ]
  },
  {
   "cell_type": "code",
   "execution_count": 23,
   "metadata": {},
   "outputs": [
    {
     "data": {
      "text/plain": [
       "(8807, 12)"
      ]
     },
     "execution_count": 23,
     "metadata": {},
     "output_type": "execute_result"
    }
   ],
   "source": [
    "df.shape"
   ]
  },
  {
   "cell_type": "code",
   "execution_count": 24,
   "metadata": {},
   "outputs": [
    {
     "data": {
      "text/plain": [
       "type\n",
       "Movie      6131\n",
       "TV Show    2676\n",
       "Name: title, dtype: int64"
      ]
     },
     "execution_count": 24,
     "metadata": {},
     "output_type": "execute_result"
    }
   ],
   "source": [
    "# How many titles are there per content type (Movie vs TV Show)?\n",
    "group_content = df.groupby('type')['title'].count()\n",
    "group_content"
   ]
  },
  {
   "cell_type": "code",
   "execution_count": 25,
   "metadata": {},
   "outputs": [
    {
     "data": {
      "text/plain": [
       "release_year\n",
       "1925    1\n",
       "1942    2\n",
       "1943    3\n",
       "1944    3\n",
       "1945    4\n",
       "1946    2\n",
       "1947    1\n",
       "1954    2\n",
       "1955    3\n",
       "1956    2\n",
       "Name: title, dtype: int64"
      ]
     },
     "execution_count": 25,
     "metadata": {},
     "output_type": "execute_result"
    }
   ],
   "source": [
    "# What is the number of titles released each year?\n",
    "group_year = df.groupby('release_year')['title'].count()\n",
    "group_year.head(10)"
   ]
  },
  {
   "cell_type": "code",
   "execution_count": 26,
   "metadata": {},
   "outputs": [
    {
     "data": {
      "text/plain": [
       "country\n",
       ", France, Algeria                                       1\n",
       ", South Korea                                           1\n",
       "Argentina                                              56\n",
       "Argentina, Brazil, France, Poland, Germany, Denmark     1\n",
       "Argentina, Chile                                        2\n",
       "                                                       ..\n",
       "Venezuela                                               1\n",
       "Venezuela, Colombia                                     1\n",
       "Vietnam                                                 7\n",
       "West Germany                                            1\n",
       "Zimbabwe                                                1\n",
       "Name: title, Length: 748, dtype: int64"
      ]
     },
     "execution_count": 26,
     "metadata": {},
     "output_type": "execute_result"
    }
   ],
   "source": [
    "# Which countries produce the most content on Netflix?\n",
    "group_contries = df.groupby('country')['title'].count()\n",
    "group_contries"
   ]
  },
  {
   "cell_type": "code",
   "execution_count": 27,
   "metadata": {},
   "outputs": [
    {
     "data": {
      "text/plain": [
       "rating\n",
       "66 min         1\n",
       "74 min         1\n",
       "84 min         1\n",
       "G             41\n",
       "NC-17          3\n",
       "NR            80\n",
       "PG           287\n",
       "PG-13        490\n",
       "R            799\n",
       "TV-14       2160\n",
       "TV-G         220\n",
       "TV-MA       3207\n",
       "TV-PG        863\n",
       "TV-Y         307\n",
       "TV-Y7        334\n",
       "TV-Y7-FV       6\n",
       "UR             3\n",
       "Name: title, dtype: int64"
      ]
     },
     "execution_count": 27,
     "metadata": {},
     "output_type": "execute_result"
    }
   ],
   "source": [
    "# What is the average number of titles per rating?\n",
    "group_rating = df.groupby('rating')['title'].count()\n",
    "group_rating"
   ]
  },
  {
   "cell_type": "code",
   "execution_count": 28,
   "metadata": {},
   "outputs": [
    {
     "data": {
      "text/html": [
       "<div>\n",
       "<style scoped>\n",
       "    .dataframe tbody tr th:only-of-type {\n",
       "        vertical-align: middle;\n",
       "    }\n",
       "\n",
       "    .dataframe tbody tr th {\n",
       "        vertical-align: top;\n",
       "    }\n",
       "\n",
       "    .dataframe thead th {\n",
       "        text-align: right;\n",
       "    }\n",
       "</style>\n",
       "<table border=\"1\" class=\"dataframe\">\n",
       "  <thead>\n",
       "    <tr style=\"text-align: right;\">\n",
       "      <th></th>\n",
       "      <th>director</th>\n",
       "      <th>title_count</th>\n",
       "    </tr>\n",
       "  </thead>\n",
       "  <tbody>\n",
       "    <tr>\n",
       "      <th>3392</th>\n",
       "      <td>Rajiv Chilaka</td>\n",
       "      <td>19</td>\n",
       "    </tr>\n",
       "    <tr>\n",
       "      <th>3443</th>\n",
       "      <td>Raúl Campos, Jan Suter</td>\n",
       "      <td>18</td>\n",
       "    </tr>\n",
       "    <tr>\n",
       "      <th>4046</th>\n",
       "      <td>Suhas Kadav</td>\n",
       "      <td>16</td>\n",
       "    </tr>\n",
       "    <tr>\n",
       "      <th>2598</th>\n",
       "      <td>Marcus Raboy</td>\n",
       "      <td>16</td>\n",
       "    </tr>\n",
       "    <tr>\n",
       "      <th>1790</th>\n",
       "      <td>Jay Karas</td>\n",
       "      <td>14</td>\n",
       "    </tr>\n",
       "    <tr>\n",
       "      <th>685</th>\n",
       "      <td>Cathy Garcia-Molina</td>\n",
       "      <td>13</td>\n",
       "    </tr>\n",
       "    <tr>\n",
       "      <th>4480</th>\n",
       "      <td>Youssef Chahine</td>\n",
       "      <td>12</td>\n",
       "    </tr>\n",
       "    <tr>\n",
       "      <th>2671</th>\n",
       "      <td>Martin Scorsese</td>\n",
       "      <td>12</td>\n",
       "    </tr>\n",
       "    <tr>\n",
       "      <th>1787</th>\n",
       "      <td>Jay Chapman</td>\n",
       "      <td>12</td>\n",
       "    </tr>\n",
       "    <tr>\n",
       "      <th>4020</th>\n",
       "      <td>Steven Spielberg</td>\n",
       "      <td>11</td>\n",
       "    </tr>\n",
       "  </tbody>\n",
       "</table>\n",
       "</div>"
      ],
      "text/plain": [
       "                    director  title_count\n",
       "3392           Rajiv Chilaka           19\n",
       "3443  Raúl Campos, Jan Suter           18\n",
       "4046             Suhas Kadav           16\n",
       "2598            Marcus Raboy           16\n",
       "1790               Jay Karas           14\n",
       "685      Cathy Garcia-Molina           13\n",
       "4480         Youssef Chahine           12\n",
       "2671         Martin Scorsese           12\n",
       "1787             Jay Chapman           12\n",
       "4020        Steven Spielberg           11"
      ]
     },
     "execution_count": 28,
     "metadata": {},
     "output_type": "execute_result"
    }
   ],
   "source": [
    "# Which directors have the most titles on Netflix?\n",
    "group_director = df.groupby('director')['title'].count()\n",
    "group_director = group_director.reset_index()\n",
    "group_director.columns = ['director', 'title_count']\n",
    "group_director = group_director.sort_values(by='title_count', ascending=False)\n",
    "group_director.head(10)"
   ]
  },
  {
   "cell_type": "code",
   "execution_count": 29,
   "metadata": {},
   "outputs": [
    {
     "data": {
      "text/html": [
       "<div>\n",
       "<style scoped>\n",
       "    .dataframe tbody tr th:only-of-type {\n",
       "        vertical-align: middle;\n",
       "    }\n",
       "\n",
       "    .dataframe tbody tr th {\n",
       "        vertical-align: top;\n",
       "    }\n",
       "\n",
       "    .dataframe thead th {\n",
       "        text-align: right;\n",
       "    }\n",
       "</style>\n",
       "<table border=\"1\" class=\"dataframe\">\n",
       "  <thead>\n",
       "    <tr style=\"text-align: right;\">\n",
       "      <th></th>\n",
       "      <th>genre</th>\n",
       "      <th>count</th>\n",
       "    </tr>\n",
       "  </thead>\n",
       "  <tbody>\n",
       "    <tr>\n",
       "      <th>0</th>\n",
       "      <td>International Movies</td>\n",
       "      <td>2752</td>\n",
       "    </tr>\n",
       "    <tr>\n",
       "      <th>1</th>\n",
       "      <td>Dramas</td>\n",
       "      <td>2427</td>\n",
       "    </tr>\n",
       "    <tr>\n",
       "      <th>2</th>\n",
       "      <td>Comedies</td>\n",
       "      <td>1674</td>\n",
       "    </tr>\n",
       "    <tr>\n",
       "      <th>3</th>\n",
       "      <td>International TV Shows</td>\n",
       "      <td>1351</td>\n",
       "    </tr>\n",
       "    <tr>\n",
       "      <th>4</th>\n",
       "      <td>Documentaries</td>\n",
       "      <td>869</td>\n",
       "    </tr>\n",
       "  </tbody>\n",
       "</table>\n",
       "</div>"
      ],
      "text/plain": [
       "                    genre  count\n",
       "0    International Movies   2752\n",
       "1                  Dramas   2427\n",
       "2                Comedies   1674\n",
       "3  International TV Shows   1351\n",
       "4           Documentaries    869"
      ]
     },
     "execution_count": 29,
     "metadata": {},
     "output_type": "execute_result"
    }
   ],
   "source": [
    "# What are the top 5 most common genres or categories (from the listed_in column)?\n",
    "group_listed = df['listed_in'].str.split(', ').explode().value_counts()\n",
    "group_listed = group_listed.reset_index()\n",
    "group_listed.columns = ['genre', 'count']\n",
    "group_listed = group_listed.sort_values(by='count', ascending=False)\n",
    "group_listed.head(5)"
   ]
  },
  {
   "cell_type": "markdown",
   "metadata": {},
   "source": [
    "# Pivot Table Analysis Using Netflix Dataset\n",
    "- Create a pivot table showing the count of Movies and TV Shows per country.\n",
    "- Create a pivot table showing the number of titles per release year and type.\n",
    "- Create a pivot table for rating distribution by content type.\n",
    "- Create a pivot table comparing the number of titles added per month and content type.\n",
    "- Create a pivot table showing how many titles each country has produced across different ratings.\n",
    "- Create a pivot table to compare genres (listed_in) across Movies vs TV Shows.\n",
    "- Show how content type and release year interact using a pivot table.\n"
   ]
  },
  {
   "cell_type": "code",
   "execution_count": 30,
   "metadata": {},
   "outputs": [
    {
     "data": {
      "text/html": [
       "<div>\n",
       "<style scoped>\n",
       "    .dataframe tbody tr th:only-of-type {\n",
       "        vertical-align: middle;\n",
       "    }\n",
       "\n",
       "    .dataframe tbody tr th {\n",
       "        vertical-align: top;\n",
       "    }\n",
       "\n",
       "    .dataframe thead th {\n",
       "        text-align: right;\n",
       "    }\n",
       "</style>\n",
       "<table border=\"1\" class=\"dataframe\">\n",
       "  <thead>\n",
       "    <tr style=\"text-align: right;\">\n",
       "      <th></th>\n",
       "      <th>show_id</th>\n",
       "      <th>type</th>\n",
       "      <th>title</th>\n",
       "      <th>director</th>\n",
       "      <th>cast</th>\n",
       "      <th>country</th>\n",
       "      <th>date_added</th>\n",
       "      <th>release_year</th>\n",
       "      <th>rating</th>\n",
       "      <th>duration</th>\n",
       "      <th>listed_in</th>\n",
       "      <th>description</th>\n",
       "    </tr>\n",
       "  </thead>\n",
       "  <tbody>\n",
       "    <tr>\n",
       "      <th>0</th>\n",
       "      <td>s1</td>\n",
       "      <td>Movie</td>\n",
       "      <td>Dick Johnson Is Dead</td>\n",
       "      <td>Kirsten Johnson</td>\n",
       "      <td>NaN</td>\n",
       "      <td>United States</td>\n",
       "      <td>September 25, 2021</td>\n",
       "      <td>2020</td>\n",
       "      <td>PG-13</td>\n",
       "      <td>90 min</td>\n",
       "      <td>Documentaries</td>\n",
       "      <td>As her father nears the end of his life, filmm...</td>\n",
       "    </tr>\n",
       "    <tr>\n",
       "      <th>1</th>\n",
       "      <td>s2</td>\n",
       "      <td>TV Show</td>\n",
       "      <td>Blood &amp; Water</td>\n",
       "      <td>NaN</td>\n",
       "      <td>Ama Qamata, Khosi Ngema, Gail Mabalane, Thaban...</td>\n",
       "      <td>South Africa</td>\n",
       "      <td>September 24, 2021</td>\n",
       "      <td>2021</td>\n",
       "      <td>TV-MA</td>\n",
       "      <td>2 Seasons</td>\n",
       "      <td>International TV Shows, TV Dramas, TV Mysteries</td>\n",
       "      <td>After crossing paths at a party, a Cape Town t...</td>\n",
       "    </tr>\n",
       "    <tr>\n",
       "      <th>2</th>\n",
       "      <td>s3</td>\n",
       "      <td>TV Show</td>\n",
       "      <td>Ganglands</td>\n",
       "      <td>Julien Leclercq</td>\n",
       "      <td>Sami Bouajila, Tracy Gotoas, Samuel Jouy, Nabi...</td>\n",
       "      <td>NaN</td>\n",
       "      <td>September 24, 2021</td>\n",
       "      <td>2021</td>\n",
       "      <td>TV-MA</td>\n",
       "      <td>1 Season</td>\n",
       "      <td>Crime TV Shows, International TV Shows, TV Act...</td>\n",
       "      <td>To protect his family from a powerful drug lor...</td>\n",
       "    </tr>\n",
       "    <tr>\n",
       "      <th>3</th>\n",
       "      <td>s4</td>\n",
       "      <td>TV Show</td>\n",
       "      <td>Jailbirds New Orleans</td>\n",
       "      <td>NaN</td>\n",
       "      <td>NaN</td>\n",
       "      <td>NaN</td>\n",
       "      <td>September 24, 2021</td>\n",
       "      <td>2021</td>\n",
       "      <td>TV-MA</td>\n",
       "      <td>1 Season</td>\n",
       "      <td>Docuseries, Reality TV</td>\n",
       "      <td>Feuds, flirtations and toilet talk go down amo...</td>\n",
       "    </tr>\n",
       "    <tr>\n",
       "      <th>4</th>\n",
       "      <td>s5</td>\n",
       "      <td>TV Show</td>\n",
       "      <td>Kota Factory</td>\n",
       "      <td>NaN</td>\n",
       "      <td>Mayur More, Jitendra Kumar, Ranjan Raj, Alam K...</td>\n",
       "      <td>India</td>\n",
       "      <td>September 24, 2021</td>\n",
       "      <td>2021</td>\n",
       "      <td>TV-MA</td>\n",
       "      <td>2 Seasons</td>\n",
       "      <td>International TV Shows, Romantic TV Shows, TV ...</td>\n",
       "      <td>In a city of coaching centers known to train I...</td>\n",
       "    </tr>\n",
       "    <tr>\n",
       "      <th>...</th>\n",
       "      <td>...</td>\n",
       "      <td>...</td>\n",
       "      <td>...</td>\n",
       "      <td>...</td>\n",
       "      <td>...</td>\n",
       "      <td>...</td>\n",
       "      <td>...</td>\n",
       "      <td>...</td>\n",
       "      <td>...</td>\n",
       "      <td>...</td>\n",
       "      <td>...</td>\n",
       "      <td>...</td>\n",
       "    </tr>\n",
       "    <tr>\n",
       "      <th>8802</th>\n",
       "      <td>s8803</td>\n",
       "      <td>Movie</td>\n",
       "      <td>Zodiac</td>\n",
       "      <td>David Fincher</td>\n",
       "      <td>Mark Ruffalo, Jake Gyllenhaal, Robert Downey J...</td>\n",
       "      <td>United States</td>\n",
       "      <td>November 20, 2019</td>\n",
       "      <td>2007</td>\n",
       "      <td>R</td>\n",
       "      <td>158 min</td>\n",
       "      <td>Cult Movies, Dramas, Thrillers</td>\n",
       "      <td>A political cartoonist, a crime reporter and a...</td>\n",
       "    </tr>\n",
       "    <tr>\n",
       "      <th>8803</th>\n",
       "      <td>s8804</td>\n",
       "      <td>TV Show</td>\n",
       "      <td>Zombie Dumb</td>\n",
       "      <td>NaN</td>\n",
       "      <td>NaN</td>\n",
       "      <td>NaN</td>\n",
       "      <td>July 1, 2019</td>\n",
       "      <td>2018</td>\n",
       "      <td>TV-Y7</td>\n",
       "      <td>2 Seasons</td>\n",
       "      <td>Kids' TV, Korean TV Shows, TV Comedies</td>\n",
       "      <td>While living alone in a spooky town, a young g...</td>\n",
       "    </tr>\n",
       "    <tr>\n",
       "      <th>8804</th>\n",
       "      <td>s8805</td>\n",
       "      <td>Movie</td>\n",
       "      <td>Zombieland</td>\n",
       "      <td>Ruben Fleischer</td>\n",
       "      <td>Jesse Eisenberg, Woody Harrelson, Emma Stone, ...</td>\n",
       "      <td>United States</td>\n",
       "      <td>November 1, 2019</td>\n",
       "      <td>2009</td>\n",
       "      <td>R</td>\n",
       "      <td>88 min</td>\n",
       "      <td>Comedies, Horror Movies</td>\n",
       "      <td>Looking to survive in a world taken over by zo...</td>\n",
       "    </tr>\n",
       "    <tr>\n",
       "      <th>8805</th>\n",
       "      <td>s8806</td>\n",
       "      <td>Movie</td>\n",
       "      <td>Zoom</td>\n",
       "      <td>Peter Hewitt</td>\n",
       "      <td>Tim Allen, Courteney Cox, Chevy Chase, Kate Ma...</td>\n",
       "      <td>United States</td>\n",
       "      <td>January 11, 2020</td>\n",
       "      <td>2006</td>\n",
       "      <td>PG</td>\n",
       "      <td>88 min</td>\n",
       "      <td>Children &amp; Family Movies, Comedies</td>\n",
       "      <td>Dragged from civilian life, a former superhero...</td>\n",
       "    </tr>\n",
       "    <tr>\n",
       "      <th>8806</th>\n",
       "      <td>s8807</td>\n",
       "      <td>Movie</td>\n",
       "      <td>Zubaan</td>\n",
       "      <td>Mozez Singh</td>\n",
       "      <td>Vicky Kaushal, Sarah-Jane Dias, Raaghav Chanan...</td>\n",
       "      <td>India</td>\n",
       "      <td>March 2, 2019</td>\n",
       "      <td>2015</td>\n",
       "      <td>TV-14</td>\n",
       "      <td>111 min</td>\n",
       "      <td>Dramas, International Movies, Music &amp; Musicals</td>\n",
       "      <td>A scrappy but poor boy worms his way into a ty...</td>\n",
       "    </tr>\n",
       "  </tbody>\n",
       "</table>\n",
       "<p>8807 rows × 12 columns</p>\n",
       "</div>"
      ],
      "text/plain": [
       "     show_id     type                  title         director  \\\n",
       "0         s1    Movie   Dick Johnson Is Dead  Kirsten Johnson   \n",
       "1         s2  TV Show          Blood & Water              NaN   \n",
       "2         s3  TV Show              Ganglands  Julien Leclercq   \n",
       "3         s4  TV Show  Jailbirds New Orleans              NaN   \n",
       "4         s5  TV Show           Kota Factory              NaN   \n",
       "...      ...      ...                    ...              ...   \n",
       "8802   s8803    Movie                 Zodiac    David Fincher   \n",
       "8803   s8804  TV Show            Zombie Dumb              NaN   \n",
       "8804   s8805    Movie             Zombieland  Ruben Fleischer   \n",
       "8805   s8806    Movie                   Zoom     Peter Hewitt   \n",
       "8806   s8807    Movie                 Zubaan      Mozez Singh   \n",
       "\n",
       "                                                   cast        country  \\\n",
       "0                                                   NaN  United States   \n",
       "1     Ama Qamata, Khosi Ngema, Gail Mabalane, Thaban...   South Africa   \n",
       "2     Sami Bouajila, Tracy Gotoas, Samuel Jouy, Nabi...            NaN   \n",
       "3                                                   NaN            NaN   \n",
       "4     Mayur More, Jitendra Kumar, Ranjan Raj, Alam K...          India   \n",
       "...                                                 ...            ...   \n",
       "8802  Mark Ruffalo, Jake Gyllenhaal, Robert Downey J...  United States   \n",
       "8803                                                NaN            NaN   \n",
       "8804  Jesse Eisenberg, Woody Harrelson, Emma Stone, ...  United States   \n",
       "8805  Tim Allen, Courteney Cox, Chevy Chase, Kate Ma...  United States   \n",
       "8806  Vicky Kaushal, Sarah-Jane Dias, Raaghav Chanan...          India   \n",
       "\n",
       "              date_added  release_year rating   duration  \\\n",
       "0     September 25, 2021          2020  PG-13     90 min   \n",
       "1     September 24, 2021          2021  TV-MA  2 Seasons   \n",
       "2     September 24, 2021          2021  TV-MA   1 Season   \n",
       "3     September 24, 2021          2021  TV-MA   1 Season   \n",
       "4     September 24, 2021          2021  TV-MA  2 Seasons   \n",
       "...                  ...           ...    ...        ...   \n",
       "8802   November 20, 2019          2007      R    158 min   \n",
       "8803        July 1, 2019          2018  TV-Y7  2 Seasons   \n",
       "8804    November 1, 2019          2009      R     88 min   \n",
       "8805    January 11, 2020          2006     PG     88 min   \n",
       "8806       March 2, 2019          2015  TV-14    111 min   \n",
       "\n",
       "                                              listed_in  \\\n",
       "0                                         Documentaries   \n",
       "1       International TV Shows, TV Dramas, TV Mysteries   \n",
       "2     Crime TV Shows, International TV Shows, TV Act...   \n",
       "3                                Docuseries, Reality TV   \n",
       "4     International TV Shows, Romantic TV Shows, TV ...   \n",
       "...                                                 ...   \n",
       "8802                     Cult Movies, Dramas, Thrillers   \n",
       "8803             Kids' TV, Korean TV Shows, TV Comedies   \n",
       "8804                            Comedies, Horror Movies   \n",
       "8805                 Children & Family Movies, Comedies   \n",
       "8806     Dramas, International Movies, Music & Musicals   \n",
       "\n",
       "                                            description  \n",
       "0     As her father nears the end of his life, filmm...  \n",
       "1     After crossing paths at a party, a Cape Town t...  \n",
       "2     To protect his family from a powerful drug lor...  \n",
       "3     Feuds, flirtations and toilet talk go down amo...  \n",
       "4     In a city of coaching centers known to train I...  \n",
       "...                                                 ...  \n",
       "8802  A political cartoonist, a crime reporter and a...  \n",
       "8803  While living alone in a spooky town, a young g...  \n",
       "8804  Looking to survive in a world taken over by zo...  \n",
       "8805  Dragged from civilian life, a former superhero...  \n",
       "8806  A scrappy but poor boy worms his way into a ty...  \n",
       "\n",
       "[8807 rows x 12 columns]"
      ]
     },
     "execution_count": 30,
     "metadata": {},
     "output_type": "execute_result"
    }
   ],
   "source": [
    "df = pd.read_csv('netflix_titles.csv')    # link df to the csv file(pd.read_csv)\n",
    "df"
   ]
  },
  {
   "cell_type": "code",
   "execution_count": 31,
   "metadata": {},
   "outputs": [
    {
     "name": "stdout",
     "output_type": "stream",
     "text": [
      "type                                                Movie  TV Show\n",
      "country                                                           \n",
      ", France, Algeria                                       1        0\n",
      ", South Korea                                           0        1\n",
      "Argentina                                              38       18\n",
      "Argentina, Brazil, France, Poland, Germany, Den...      1        0\n",
      "Argentina, Chile                                        2        0\n"
     ]
    }
   ],
   "source": [
    "# Create a pivot table showing the count of Movies and TV Shows per country.\n",
    "pivot_table = df.pivot_table(index='country', columns='type', values='title', aggfunc='count', fill_value=0)\n",
    "print(pivot_table.head())"
   ]
  },
  {
   "cell_type": "code",
   "execution_count": 32,
   "metadata": {},
   "outputs": [
    {
     "name": "stdout",
     "output_type": "stream",
     "text": [
      "type          Movie  TV Show\n",
      "release_year                \n",
      "1925              0        1\n",
      "1942              2        0\n",
      "1943              3        0\n",
      "1944              3        0\n",
      "1945              3        1\n"
     ]
    }
   ],
   "source": [
    "# Create a pivot table showing the number of titles per release year and type.\n",
    "pivot_table = df.pivot_table(index='release_year', columns='type', values='title', aggfunc='count', fill_value=0)\n",
    "print(pivot_table.head())"
   ]
  },
  {
   "cell_type": "code",
   "execution_count": 33,
   "metadata": {},
   "outputs": [
    {
     "name": "stdout",
     "output_type": "stream",
     "text": [
      "type    Movie  TV Show\n",
      "rating                \n",
      "66 min      1        0\n",
      "74 min      1        0\n",
      "84 min      1        0\n",
      "G          41        0\n",
      "NC-17       3        0\n"
     ]
    }
   ],
   "source": [
    "# Create a pivot table for rating distribution by content type.\n",
    "pivot_table = df.pivot_table(index='rating', columns='type', values='title', aggfunc='count', fill_value=0)\n",
    "print(pivot_table.head())"
   ]
  }
 ],
 "metadata": {
  "kernelspec": {
   "display_name": "Python 3",
   "language": "python",
   "name": "python3"
  },
  "language_info": {
   "codemirror_mode": {
    "name": "ipython",
    "version": 3
   },
   "file_extension": ".py",
   "mimetype": "text/x-python",
   "name": "python",
   "nbconvert_exporter": "python",
   "pygments_lexer": "ipython3",
   "version": "3.11.0"
  }
 },
 "nbformat": 4,
 "nbformat_minor": 2
}
